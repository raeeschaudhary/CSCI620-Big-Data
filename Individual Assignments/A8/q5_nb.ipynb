{
 "cells": [
  {
   "cell_type": "code",
   "execution_count": 20,
   "metadata": {},
   "outputs": [],
   "source": [
    "!pip install pymongo==4.8.0 pandas==2.2.2 matplotlib==3.9.0 seaborn==0.13.1 wordcloud==1.9.3\n"
   ]
  },
  {
   "cell_type": "code",
   "execution_count": 13,
   "metadata": {},
   "outputs": [],
   "source": [
    "import pymongo\n",
    "import pandas as pd\n",
    "import matplotlib.pyplot as plt\n",
    "import seaborn as sns\n",
    "from datetime import datetime\n",
    "from wordcloud import WordCloud"
   ]
  },
  {
   "cell_type": "code",
   "execution_count": 27,
   "metadata": {},
   "outputs": [],
   "source": [
    "# Provide the db credentials for your machine; give the db name and collection names after question 5\n",
    "path = \"mongodb://localhost:27017\"\n",
    "client = pymongo.MongoClient(path)\n",
    "db = client['ubuntu8']\n",
    "random_collections = ['posts_boot_cluster11', 'posts_apt_cluster1', 'posts_command-line_cluster19', 'posts_drivers_cluster14', 'posts_networking_cluster11']"
   ]
  },
  {
   "cell_type": "code",
   "execution_count": 28,
   "metadata": {},
   "outputs": [],
   "source": [
    "def describe_data(collection):\n",
    "    posts = collection.find()\n",
    "    # convert to df\n",
    "    df = pd.DataFrame(list(posts))\n",
    "    df['CreationDate'] = pd.to_datetime(df['CreationDate'])\n",
    "    df['CreationYear'] = df['CreationDate'].dt.year\n",
    "    descriptive_stats = df[['ViewCount', 'Score', 'PostTypeId', 'CreationYear']].describe()\n",
    "    return descriptive_stats"
   ]
  },
  {
   "cell_type": "code",
   "execution_count": 29,
   "metadata": {},
   "outputs": [],
   "source": [
    "def view_distribution(collection):\n",
    "    # get posts\n",
    "    posts = collection.find()\n",
    "    # convert to df\n",
    "    df = pd.DataFrame(list(posts))\n",
    "    # check dates\n",
    "    df['CreationDate'] = pd.to_datetime(df['CreationDate'])\n",
    "    # breakdown with other tags\n",
    "    if isinstance(df['Tags'].iloc[0], str):\n",
    "        df['Tags'] = df['Tags'].apply(lambda x: x.split(','))\n",
    "    # take year\n",
    "    df['CreationYear'] = df['CreationDate'].dt.year\n",
    "    # take tags\n",
    "    all_tags = [tag for tags in df['Tags'] for tag in tags]\n",
    "    tag_counts = pd.Series(all_tags).value_counts().head(10)\n",
    "    # add four plots\n",
    "    fig, axes = plt.subplots(1, 4, figsize=(24, 4))\n",
    "    i = 0\n",
    "    for col in ['ViewCount', 'Score', 'CreationYear', 'Tags']:\n",
    "        plt.figure(figsize=(6, 3))\n",
    "        if col == 'ViewCount' or col == 'Score':\n",
    "            sns.histplot(df[col], bins=10, ax=axes[i])\n",
    "        elif col == 'CreationYear':\n",
    "           sns.countplot(x=col, data=df, ax=axes[i])\n",
    "        else:\n",
    "            sns.barplot(x=tag_counts.index, y=tag_counts.values, ax=axes[i])\n",
    "        axes[i].set_title(f'{col} Distribution')\n",
    "        axes[i].set_xlabel(col)\n",
    "        axes[i].set_ylabel('Frequency')\n",
    "        axes[i].tick_params(axis='x', rotation=45)\n",
    "        i += 1\n",
    "    plt.tight_layout()\n",
    "    plt.show()\n"
   ]
  },
  {
   "cell_type": "code",
   "execution_count": null,
   "metadata": {},
   "outputs": [],
   "source": [
    "for collection in random_collections:\n",
    "    print(collection)\n",
    "    collection = db[collection]\n",
    "    print(describe_data(collection))"
   ]
  },
  {
   "cell_type": "code",
   "execution_count": null,
   "metadata": {},
   "outputs": [],
   "source": [
    "# a random cluster for boot\n",
    "for collection in random_collections:\n",
    "    print(collection)\n",
    "    collection = db[collection]\n",
    "    view_distribution(collection)"
   ]
  },
  {
   "cell_type": "code",
   "execution_count": 32,
   "metadata": {},
   "outputs": [],
   "source": [
    "def get_word_cloud(collection):\n",
    "    posts = collection.find()\n",
    "    # convert to df\n",
    "    df = pd.DataFrame(list(posts))\n",
    "    fig, axes = plt.subplots(1, 2, figsize=(16, 4))\n",
    "    i = 0\n",
    "    for col in ['Title', 'Body']:\n",
    "        titles = df[col].dropna().astype(str).tolist()\n",
    "        text = ' '.join(titles)\n",
    "        text = ''.join([char.lower() if char.isalpha() else ' ' for char in text])\n",
    "        wordcloud = WordCloud(width=800, height=400, \n",
    "                            background_color='white', \n",
    "                            stopwords=None).generate(text)\n",
    "            \n",
    "        axes[i].imshow(wordcloud, interpolation='bilinear')\n",
    "        axes[i].axis('off')\n",
    "        axes[i].set_title(f'Word Cloud: {col}')\n",
    "        i += 1\n",
    "    plt.tight_layout()\n",
    "    plt.show()\n"
   ]
  },
  {
   "cell_type": "code",
   "execution_count": null,
   "metadata": {},
   "outputs": [],
   "source": [
    "\n",
    "for collection in random_collections:\n",
    "    print(collection)\n",
    "    collection = db[collection]\n",
    "    get_word_cloud(collection)"
   ]
  },
  {
   "cell_type": "code",
   "execution_count": 34,
   "metadata": {},
   "outputs": [],
   "source": [
    "def views_vs_score(collection):\n",
    "    posts = collection.find()\n",
    "    # convert to df\n",
    "    df = pd.DataFrame(list(posts))\n",
    "\n",
    "    # Scatter plot: Relationship between score and view count\n",
    "    plt.figure(figsize=(6, 4))\n",
    "    plt.scatter(df['Score'], df['ViewCount'], color='blue', alpha=0.5)\n",
    "\n",
    "    # Adding labels and title\n",
    "    plt.title('Scatter Plot: Score vs. View Count')\n",
    "    plt.xlabel('Score')\n",
    "    plt.ylabel('View Count')\n",
    "\n",
    "    # Display the plot\n",
    "    plt.show()"
   ]
  },
  {
   "cell_type": "code",
   "execution_count": null,
   "metadata": {},
   "outputs": [],
   "source": [
    "\n",
    "for collection in random_collections:\n",
    "    print(collection)\n",
    "    collection = db[collection]\n",
    "    views_vs_score(collection)"
   ]
  }
 ],
 "metadata": {
  "kernelspec": {
   "display_name": "Python 3",
   "language": "python",
   "name": "python3"
  },
  "language_info": {
   "codemirror_mode": {
    "name": "ipython",
    "version": 3
   },
   "file_extension": ".py",
   "mimetype": "text/x-python",
   "name": "python",
   "nbconvert_exporter": "python",
   "pygments_lexer": "ipython3",
   "version": "3.12.0"
  }
 },
 "nbformat": 4,
 "nbformat_minor": 2
}
