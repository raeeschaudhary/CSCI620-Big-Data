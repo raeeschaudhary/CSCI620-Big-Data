{
 "cells": [
  {
   "cell_type": "code",
   "execution_count": 3,
   "metadata": {},
   "outputs": [],
   "source": [
    "### Clean Competitions\n",
    "\n",
    "import pandas as pd\n",
    "\n",
    "def clean_csv_columns_to_keep(input_file, output_file, columns_to_keep):\n",
    "    # Read the entire CSV file into a DataFrame\n",
    "    df = pd.read_csv(input_file)\n",
    "    \n",
    "    # Filter the DataFrame to keep only the specified columns\n",
    "    cleaned_df = df[columns_to_keep]\n",
    "    \n",
    "    # Save the cleaned DataFrame to a new CSV file\n",
    "    cleaned_df.to_csv(output_file, index=False)\n",
    "\n",
    "# Usage\n",
    "\n",
    "columns_to_keep = [\n",
    "    'Id', 'Slug', 'Title', 'ForumId', 'EnabledDate', 'DeadlineDate',\n",
    "    'EvaluationAlgorithmName', 'MaxTeamSize', 'NumPrizes', 'TotalTeams', 'TotalCompetitors', 'TotalSubmissions'\n",
    "]  # Add your desired columns here\n",
    "\n",
    "input_file = 'C:\\\\Users\\\\mr2714\\\\Desktop\\\\venvs\\\\pdata\\\\Competitions.csv'\n",
    "output_file = 'C:\\\\Users\\\\mr2714\\\\Desktop\\\\venvs\\\\pdata\\\\CleanedCompetitions.csv'\n",
    "\n",
    "clean_csv_columns_to_keep(input_file, output_file, columns_to_keep)\n"
   ]
  },
  {
   "cell_type": "code",
   "execution_count": 17,
   "metadata": {},
   "outputs": [],
   "source": [
    "### Clean Datasets\n",
    "\n",
    "import pandas as pd\n",
    "\n",
    "def clean_csv_columns_to_keep(input_file, output_file, columns_to_keep):\n",
    "    # Read the entire CSV file into a DataFrame\n",
    "    df = pd.read_csv(input_file)\n",
    "    \n",
    "    # Filter the DataFrame to keep only the specified columns\n",
    "    cleaned_df = df[columns_to_keep]\n",
    "    \n",
    "    # Save the cleaned DataFrame to a new CSV file\n",
    "    cleaned_df.to_csv(output_file, index=False)\n",
    "\n",
    "# Usage\n",
    "\t\t\t\t\t\t\t\t\t\n",
    "\n",
    "columns_to_keep = [\n",
    "    'Id', 'CreatorUserId', 'ForumId', 'CreationDate',\n",
    "    'LastActivityDate', 'TotalViews', 'TotalDownloads', 'TotalVotes', 'TotalKernels'\n",
    "]  # Add your desired columns here\n",
    "\n",
    "input_file = 'C:\\\\Users\\\\mr2714\\\\Desktop\\\\venvs\\\\pdata\\\\Datasets.csv'\n",
    "output_file = 'C:\\\\Users\\\\mr2714\\\\Desktop\\\\venvs\\\\pdata\\\\CleanedDatasets.csv'\n",
    "\n",
    "clean_csv_columns_to_keep(input_file, output_file, columns_to_keep)\n"
   ]
  },
  {
   "cell_type": "code",
   "execution_count": null,
   "metadata": {},
   "outputs": [],
   "source": [
    "### Clean UserAchievements\n",
    "\n",
    "import pandas as pd\n",
    "\n",
    "def clean_csv_dates(input_file, output_file, chunk_size=100000):\n",
    "    # Function to check if a date is valid\n",
    "    def is_valid_date(date_str):\n",
    "        try:\n",
    "            pd.to_datetime(date_str, format='%m/%d/%Y', errors='raise')\n",
    "            return True\n",
    "        except ValueError:\n",
    "            return False\n",
    "\n",
    "    # Use an empty file or create the output file with headers\n",
    "    first_chunk = True\n",
    "\n",
    "    # Read the CSV in chunks\n",
    "    for chunk in pd.read_csv(input_file, chunksize=chunk_size):\n",
    "        # Filter out rows with invalid dates\n",
    "        valid_chunk = chunk[chunk['TierAchievementDate'].apply(is_valid_date)]\n",
    "        \n",
    "        # Write the valid chunk to the output file\n",
    "        valid_chunk.to_csv(output_file, mode='a', header=first_chunk, index=False)\n",
    "        \n",
    "        # Set header to False for subsequent writes\n",
    "        first_chunk = False\n",
    "\n",
    "\n",
    "# Usage\n",
    "input_file = 'C:\\\\Users\\\\mr2714\\\\Desktop\\\\venvs\\\\pdata\\\\UserAchievements.csv'\n",
    "output_file = 'C:\\\\Users\\\\mr2714\\\\Desktop\\\\venvs\\\\pdata\\\\CleanedUserAchievements.csv'\n",
    "clean_csv_dates(input_file, output_file)\n"
   ]
  },
  {
   "cell_type": "code",
   "execution_count": 2,
   "metadata": {},
   "outputs": [
    {
     "name": "stderr",
     "output_type": "stream",
     "text": [
      "C:\\Users\\mr2714\\AppData\\Local\\Temp\\ipykernel_31604\\966176535.py:7: DtypeWarning: Columns (10) have mixed types. Specify dtype option on import or set low_memory=False.\n",
      "  df = pd.read_csv(input_file)\n"
     ]
    }
   ],
   "source": [
    "### Clean Teams\n",
    "\n",
    "import pandas as pd\n",
    "\n",
    "def clean_csv_columns_to_keep(input_file, output_file, columns_to_keep):\n",
    "    # Read the entire CSV file into a DataFrame\n",
    "    df = pd.read_csv(input_file)\n",
    "    \n",
    "    # Filter the DataFrame to keep only the specified columns\n",
    "    cleaned_df = df[columns_to_keep]\n",
    "    \n",
    "    # Save the cleaned DataFrame to a new CSV file\n",
    "    cleaned_df.to_csv(output_file, index=False)\n",
    "\n",
    "# Usage\n",
    "columns_to_keep = [\n",
    "    'Id', 'CompetitionId', 'TeamLeaderId', 'TeamName'\n",
    "]  # Add your desired columns here\n",
    "\n",
    "input_file = 'C:\\\\Users\\\\mr2714\\\\Desktop\\\\venvs\\\\pdata\\\\Teams.csv'\n",
    "output_file = 'C:\\\\Users\\\\mr2714\\\\Desktop\\\\venvs\\\\pdata\\\\CleanedTeams.csv'\n",
    "\n",
    "clean_csv_columns_to_keep(input_file, output_file, columns_to_keep)\n"
   ]
  },
  {
   "cell_type": "code",
   "execution_count": 5,
   "metadata": {},
   "outputs": [],
   "source": [
    "### Clean Submissions\n",
    "\n",
    "import pandas as pd\n",
    "\n",
    "def clean_csv_columns_to_keep(input_file, output_file, columns_to_keep):\n",
    "    # Read the entire CSV file into a DataFrame\n",
    "    df = pd.read_csv(input_file)\n",
    "    \n",
    "    # Filter the DataFrame to keep only the specified columns\n",
    "    cleaned_df = df[columns_to_keep]\n",
    "    \n",
    "    # Save the cleaned DataFrame to a new CSV file\n",
    "    cleaned_df.to_csv(output_file, index=False)\n",
    "\n",
    "# Usage\n",
    "columns_to_keep = [\n",
    "    'Id', 'SubmittedUserId', 'TeamId', 'SubmissionDate', 'IsAfterDeadline', 'PublicScoreLeaderboardDisplay', 'PrivateScoreLeaderboardDisplay'\n",
    "]  # Add your desired columns here\n",
    "\n",
    "input_file = 'C:\\\\Users\\\\mr2714\\\\Desktop\\\\venvs\\\\pdata\\\\Submissions.csv'\n",
    "output_file = 'C:\\\\Users\\\\mr2714\\\\Desktop\\\\venvs\\\\pdata\\\\CleanedSubmissions.csv'\n",
    "\n",
    "clean_csv_columns_to_keep(input_file, output_file, columns_to_keep)\n"
   ]
  },
  {
   "cell_type": "code",
   "execution_count": 7,
   "metadata": {},
   "outputs": [
    {
     "name": "stdout",
     "output_type": "stream",
     "text": [
      "        Id  UserId AchievementType  Tier TierAchievementDate  Points  \\\n",
      "0  3739822       1      Discussion     1          11/06/2019       0   \n",
      "1  3739823     368    Competitions     1          07/15/2016      43   \n",
      "2  3739827     381         Scripts     1          07/15/2016       0   \n",
      "3  3916403     383    Competitions     0          07/15/2016       0   \n",
      "4  3916404     384    Competitions     0          07/15/2016       0   \n",
      "\n",
      "   CurrentRanking  HighestRanking  TotalGold  TotalSilver  TotalBronze  \n",
      "0             NaN             3.0          0            0           14  \n",
      "1             NaN            75.0          0            0            0  \n",
      "2             NaN             NaN          0            0            0  \n",
      "3             NaN             NaN          0            0            0  \n",
      "4             NaN             NaN          0            0            0  \n"
     ]
    }
   ],
   "source": [
    "import pandas as pd\n",
    "# exec_commit(users_query)\n",
    "# Specify the file path\n",
    "csv_file = 'C:\\\\Users\\\\mr2714\\\\Desktop\\\\venvs\\\\pdata\\\\CleanedUserAchievements.csv'\n",
    "\n",
    "# Read the file in chunks of 1000 rows at a time\n",
    "chunk_size = 5\n",
    "chunks = pd.read_csv(csv_file, chunksize=chunk_size)\n",
    "\n",
    "# Process each chunk (example: printing the first few rows)\n",
    "c_count = 1\n",
    "for chunk in chunks:\n",
    "    print(chunk)  # or any operation on the chunk\n",
    "    # df_values = list(chunk.itertuples(index=False, name=None))\n",
    "    # print(chunk)\n",
    "    # execute_df_values(users_insert_query,df_values)\n",
    "    c_count += 1\n",
    "\n",
    "    if c_count >= 2:\n",
    "        break\n"
   ]
  },
  {
   "cell_type": "code",
   "execution_count": 9,
   "metadata": {},
   "outputs": [
    {
     "data": {
      "text/plain": [
       "16679.0"
      ]
     },
     "execution_count": 9,
     "metadata": {},
     "output_type": "execute_result"
    }
   ],
   "source": [
    "cc.ParentTagId.max()"
   ]
  }
 ],
 "metadata": {
  "kernelspec": {
   "display_name": "base",
   "language": "python",
   "name": "python3"
  },
  "language_info": {
   "codemirror_mode": {
    "name": "ipython",
    "version": 3
   },
   "file_extension": ".py",
   "mimetype": "text/x-python",
   "name": "python",
   "nbconvert_exporter": "python",
   "pygments_lexer": "ipython3",
   "version": "3.9.12"
  }
 },
 "nbformat": 4,
 "nbformat_minor": 2
}
