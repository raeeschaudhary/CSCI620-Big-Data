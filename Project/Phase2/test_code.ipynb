{
 "cells": [
  {
   "cell_type": "code",
   "execution_count": 1,
   "metadata": {},
   "outputs": [
    {
     "name": "stdout",
     "output_type": "stream",
     "text": [
      "jel\n"
     ]
    }
   ],
   "source": [
    "print(\"jel\")"
   ]
  },
  {
   "cell_type": "code",
   "execution_count": 2,
   "metadata": {},
   "outputs": [],
   "source": [
    "import psycopg2\n",
    "import psycopg2.extras as extras\n",
    "import os\n",
    "\n",
    "def connect():\n",
    "    return psycopg2.connect(\n",
    "        dbname=db_config['database'],\n",
    "        user=db_config['user'],\n",
    "        password=db_config['password'],\n",
    "        host=db_config['host'],\n",
    "        port=db_config['port']\n",
    "    )\n",
    "\n",
    "# method to connect and execute an sql file script for database\n",
    "def exec_sql_file(path):\n",
    "    # full_path = os.path.join(os.path.dirname(__file__), f'./{path}')\n",
    "    current_directory = os.getcwd()\n",
    "    full_path = os.path.join(current_directory, f'./{path}')\n",
    "    conn = connect()\n",
    "    cur = conn.cursor()\n",
    "    with open(full_path, 'r') as file:\n",
    "        cur.execute(file.read())\n",
    "    conn.commit()\n",
    "    conn.close()\n",
    "\n",
    "# method to connect and get one record from db; based on provide query\n",
    "def exec_get_one(sql, args={}):\n",
    "    conn = connect()\n",
    "    cur = conn.cursor()\n",
    "    cur.execute(sql, args)\n",
    "    one = cur.fetchone()\n",
    "    conn.close()\n",
    "    return one\n",
    "\n",
    "# method to connect and get all records from db; based on provide query\n",
    "def exec_get_all(sql, args={}):\n",
    "    conn = connect()\n",
    "    cur = conn.cursor()\n",
    "    cur.execute(sql, args)\n",
    "    # https://www.psycopg.org/docs/cursor.html#cursor.fetchall\n",
    "    list_of_tuples = cur.fetchall()\n",
    "    conn.close()\n",
    "    return list_of_tuples\n",
    "\n",
    "# method to execute a query; based on provided query\n",
    "def exec_commit(sql, args={}):\n",
    "    conn = connect()\n",
    "    cur = conn.cursor()\n",
    "    result = cur.execute(sql, args)\n",
    "    conn.commit()\n",
    "    conn.close()\n",
    "    return result\n",
    "\n",
    "# method to excute a bulk query (i.e., to insert chunk of data togather) based on provided query and input data\n",
    "def execute_df_values(sql, tuples):\n",
    "    conn = connect()\n",
    "    cur = conn.cursor()\n",
    "    result = extras.execute_values(cur, sql, tuples)\n",
    "    conn.commit()\n",
    "    conn.close()\n",
    "    return result\n"
   ]
  },
  {
   "cell_type": "code",
   "execution_count": 2,
   "metadata": {},
   "outputs": [
    {
     "name": "stdout",
     "output_type": "stream",
     "text": [
      "hello\n"
     ]
    }
   ],
   "source": [
    "input_files = [\"users\", \"badges\", \"tags\", \"posts\", \"posttags\", \"comments\", \"dummy\"]\n",
    "db_config = {\n",
    "    'host': 'localhost',\n",
    "    'database': 'pp1',\n",
    "    'user': 'postgres',\n",
    "    'password': 'root',\n",
    "    'port': '5432'\n",
    "}\n",
    "\n",
    "data_directory = 'C:\\\\Users\\\\mr2714\\\\OneDrive - rit.edu\\\\Python_Projects\\\\BigData\\\\pdata\\\\'\n",
    "\n",
    "chunk_size = 10\n",
    "\n",
    "print(\"hello\")"
   ]
  },
  {
   "cell_type": "code",
   "execution_count": 6,
   "metadata": {},
   "outputs": [],
   "source": [
    "users_query = \"\"\" DROP TABLE IF EXISTS users CASCADE;\n",
    "\n",
    "CREATE TABLE users (\n",
    "    Id INTEGER PRIMARY KEY,\n",
    "    UserName VARCHAR(50),\n",
    "    DisplayName VARCHAR(50),\n",
    "    RegisterDate DATE,\n",
    "    PerformanceTier INTEGER, \n",
    "    Country VARCHAR(50)\n",
    ");\"\"\""
   ]
  },
  {
   "cell_type": "code",
   "execution_count": 10,
   "metadata": {},
   "outputs": [],
   "source": [
    "users_insert_query = \"\"\"\n",
    "    INSERT INTO Users (Id, UserName, DisplayName,RegisterDate,PerformanceTier,Country)\n",
    "    VALUES %s\n",
    "    \"\"\""
   ]
  },
  {
   "cell_type": "code",
   "execution_count": 3,
   "metadata": {},
   "outputs": [
    {
     "name": "stdout",
     "output_type": "stream",
     "text": [
      "        Id  UserId AchievementType  Tier TierAchievementDate  Points  \\\n",
      "0  3739822       1      Discussion     1          11/06/2019       0   \n",
      "1  3739823     368    Competitions     1          07/15/2016      43   \n",
      "2  3739827     381         Scripts     1          07/15/2016       0   \n",
      "3  3916403     383    Competitions     0          07/15/2016       0   \n",
      "4  3916404     384    Competitions     0          07/15/2016       0   \n",
      "\n",
      "   CurrentRanking  HighestRanking  TotalGold  TotalSilver  TotalBronze  \n",
      "0             NaN             3.0          0            0           14  \n",
      "1             NaN            75.0          0            0            0  \n",
      "2             NaN             NaN          0            0            0  \n",
      "3             NaN             NaN          0            0            0  \n",
      "4             NaN             NaN          0            0            0  \n"
     ]
    }
   ],
   "source": [
    "import pandas as pd\n",
    "# exec_commit(users_query)\n",
    "# Specify the file path\n",
    "csv_file = 'C:\\\\Users\\\\mr2714\\\\Desktop\\\\venvs\\\\pdata\\\\UserAchievements.csv'\n",
    "\n",
    "# Read the file in chunks of 1000 rows at a time\n",
    "chunk_size = 5\n",
    "chunks = pd.read_csv(csv_file, chunksize=chunk_size)\n",
    "\n",
    "# Process each chunk (example: printing the first few rows)\n",
    "c_count = 1\n",
    "for chunk in chunks:\n",
    "    print(chunk)  # or any operation on the chunk\n",
    "    # df_values = list(chunk.itertuples(index=False, name=None))\n",
    "    # print(chunk)\n",
    "    # execute_df_values(users_insert_query,df_values)\n",
    "    c_count += 1\n",
    "\n",
    "    if c_count >= 2:\n",
    "        break\n"
   ]
  },
  {
   "cell_type": "code",
   "execution_count": 5,
   "metadata": {},
   "outputs": [],
   "source": [
    "### Clean UserAchievements\n",
    "\n",
    "import pandas as pd\n",
    "\n",
    "def clean_csv(input_file, output_file, chunk_size=100000):\n",
    "    # Function to check if a date is valid\n",
    "    def is_valid_date(date_str):\n",
    "        try:\n",
    "            pd.to_datetime(date_str, format='%m/%d/%Y', errors='raise')\n",
    "            return True\n",
    "        except ValueError:\n",
    "            return False\n",
    "\n",
    "    # Use an empty file or create the output file with headers\n",
    "    first_chunk = True\n",
    "\n",
    "    # Read the CSV in chunks\n",
    "    for chunk in pd.read_csv(input_file, chunksize=chunk_size):\n",
    "        # Filter out rows with invalid dates\n",
    "        valid_chunk = chunk[chunk['TierAchievementDate'].apply(is_valid_date)]\n",
    "        \n",
    "        # Write the valid chunk to the output file\n",
    "        valid_chunk.to_csv(output_file, mode='a', header=first_chunk, index=False)\n",
    "        \n",
    "        # Set header to False for subsequent writes\n",
    "        first_chunk = False\n",
    "\n",
    "\n",
    "# Usage\n",
    "input_file = 'C:\\\\Users\\\\mr2714\\\\Desktop\\\\venvs\\\\pdata\\\\UserAchievements.csv'\n",
    "output_file = 'C:\\\\Users\\\\mr2714\\\\Desktop\\\\venvs\\\\pdata\\\\CleanedUserAchievements.csv'\n",
    "clean_csv(input_file, output_file)\n"
   ]
  },
  {
   "cell_type": "code",
   "execution_count": 2,
   "metadata": {},
   "outputs": [
    {
     "name": "stdout",
     "output_type": "stream",
     "text": [
      "calling without giving 2nd\n",
      " Chunk Sized  45\n",
      " reduced_size  45\n",
      "calling with giving 2nd\n",
      " Chunk Sized  45\n",
      " reduced_size  30\n"
     ]
    }
   ],
   "source": [
    "chunk_size = 45\n",
    "\n",
    "def get_csv_chunker(csv_file, reduced_size=chunk_size):\n",
    "    print(\" Chunk Sized \", chunk_size)\n",
    "    print(\" reduced_size \", reduced_size)\n",
    "\n",
    "print(\"calling without giving 2nd\")\n",
    "get_csv_chunker(\"csv_file\")\n",
    "\n",
    "print(\"calling with giving 2nd\")\n",
    "get_csv_chunker(\"csv_file\", 30)"
   ]
  }
 ],
 "metadata": {
  "kernelspec": {
   "display_name": "base",
   "language": "python",
   "name": "python3"
  },
  "language_info": {
   "codemirror_mode": {
    "name": "ipython",
    "version": 3
   },
   "file_extension": ".py",
   "mimetype": "text/x-python",
   "name": "python",
   "nbconvert_exporter": "python",
   "pygments_lexer": "ipython3",
   "version": "3.9.12"
  }
 },
 "nbformat": 4,
 "nbformat_minor": 2
}
