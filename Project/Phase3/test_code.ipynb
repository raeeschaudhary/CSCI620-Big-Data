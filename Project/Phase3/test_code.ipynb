{
 "cells": [
  {
   "cell_type": "code",
   "execution_count": null,
   "metadata": {},
   "outputs": [
    {
     "name": "stdout",
     "output_type": "stream",
     "text": [
      "jel\n"
     ]
    }
   ],
   "source": [
    "print(\"jel\")"
   ]
  },
  {
   "cell_type": "code",
   "execution_count": 3,
   "metadata": {},
   "outputs": [
    {
     "name": "stdout",
     "output_type": "stream",
     "text": [
      "hello\n"
     ]
    }
   ],
   "source": [
    "data_directory = 'C:\\\\Users\\\\mr2714\\\\Desktop\\\\venvs\\\\pdata\\\\'\n",
    "import pandas as pd\n",
    "cleaned_files = [\"Users\", \"Tags\", \"Forums\", \"Organizations\", \"UserOrganizations\", \"UserFollowers\", \"DatasetsCleaned\", \"DatasetTags\", \n",
    "                 \"CompetitionsCleaned\", \"CompetitionTags\", \"TeamsCleaned\", \"SubmissionsCleaned\", \"UserAchievements\"]\n",
    "print(\"hello\")"
   ]
  },
  {
   "cell_type": "code",
   "execution_count": 2,
   "metadata": {},
   "outputs": [
    {
     "data": {
      "text/html": [
       "<div>\n",
       "<style scoped>\n",
       "    .dataframe tbody tr th:only-of-type {\n",
       "        vertical-align: middle;\n",
       "    }\n",
       "\n",
       "    .dataframe tbody tr th {\n",
       "        vertical-align: top;\n",
       "    }\n",
       "\n",
       "    .dataframe thead th {\n",
       "        text-align: right;\n",
       "    }\n",
       "</style>\n",
       "<table border=\"1\" class=\"dataframe\">\n",
       "  <thead>\n",
       "    <tr style=\"text-align: right;\">\n",
       "      <th></th>\n",
       "      <th>Id</th>\n",
       "      <th>UserId</th>\n",
       "      <th>FollowingUserId</th>\n",
       "      <th>CreationDate</th>\n",
       "    </tr>\n",
       "  </thead>\n",
       "  <tbody>\n",
       "  </tbody>\n",
       "</table>\n",
       "</div>"
      ],
      "text/plain": [
       "Empty DataFrame\n",
       "Columns: [Id, UserId, FollowingUserId, CreationDate]\n",
       "Index: []"
      ]
     },
     "execution_count": 2,
     "metadata": {},
     "output_type": "execute_result"
    }
   ],
   "source": [
    "followers =  pd.read_csv(data_directory + 'UserFollowers.csv')\n",
    "duplicates = followers[followers.duplicated()]\n",
    "duplicates.head()"
   ]
  },
  {
   "cell_type": "code",
   "execution_count": 5,
   "metadata": {},
   "outputs": [
    {
     "name": "stdout",
     "output_type": "stream",
     "text": [
      "file: Users, duplicates: 0\n",
      "file: Tags, duplicates: 0\n",
      "file: Forums, duplicates: 0\n",
      "file: Organizations, duplicates: 0\n",
      "file: UserOrganizations, duplicates: 0\n",
      "file: UserFollowers, duplicates: 0\n",
      "file: DatasetsCleaned, duplicates: 0\n",
      "file: DatasetTags, duplicates: 0\n",
      "file: CompetitionsCleaned, duplicates: 0\n",
      "file: CompetitionTags, duplicates: 0\n",
      "file: TeamsCleaned, duplicates: 0\n",
      "file: SubmissionsCleaned, duplicates: 0\n",
      "file: UserAchievements, duplicates: 0\n"
     ]
    }
   ],
   "source": [
    "for file in cleaned_files:\n",
    "    df =  pd.read_csv(data_directory + file + '.csv')\n",
    "    duplicates = df[df.duplicated()]\n",
    "    print(f'file: {file}, duplicates: {len(duplicates)}')"
   ]
  },
  {
   "cell_type": "code",
   "execution_count": 3,
   "metadata": {},
   "outputs": [
    {
     "name": "stdout",
     "output_type": "stream",
     "text": [
      "        Id  UserId AchievementType  Tier TierAchievementDate  Points  \\\n",
      "0  3739822       1      Discussion     1          11/06/2019       0   \n",
      "1  3739823     368    Competitions     1          07/15/2016      43   \n",
      "2  3739827     381         Scripts     1          07/15/2016       0   \n",
      "3  3916403     383    Competitions     0          07/15/2016       0   \n",
      "4  3916404     384    Competitions     0          07/15/2016       0   \n",
      "\n",
      "   CurrentRanking  HighestRanking  TotalGold  TotalSilver  TotalBronze  \n",
      "0             NaN             3.0          0            0           14  \n",
      "1             NaN            75.0          0            0            0  \n",
      "2             NaN             NaN          0            0            0  \n",
      "3             NaN             NaN          0            0            0  \n",
      "4             NaN             NaN          0            0            0  \n"
     ]
    }
   ],
   "source": [
    "import pandas as pd\n",
    "# exec_commit(users_query)\n",
    "# Specify the file path\n",
    "csv_file = 'C:\\\\Users\\\\mr2714\\\\Desktop\\\\venvs\\\\pdata\\\\UserAchievements.csv'\n",
    "\n",
    "# Read the file in chunks of 1000 rows at a time\n",
    "chunk_size = 5\n",
    "chunks = pd.read_csv(csv_file, chunksize=chunk_size)\n",
    "\n",
    "# Process each chunk (example: printing the first few rows)\n",
    "c_count = 1\n",
    "for chunk in chunks:\n",
    "    print(chunk)  # or any operation on the chunk\n",
    "    # df_values = list(chunk.itertuples(index=False, name=None))\n",
    "    # print(chunk)\n",
    "    # execute_df_values(users_insert_query,df_values)\n",
    "    c_count += 1\n",
    "\n",
    "    if c_count >= 2:\n",
    "        break\n"
   ]
  },
  {
   "cell_type": "code",
   "execution_count": 5,
   "metadata": {},
   "outputs": [],
   "source": [
    "### Clean UserAchievements\n",
    "\n",
    "import pandas as pd\n",
    "\n",
    "def clean_csv(input_file, output_file, chunk_size=100000):\n",
    "    # Function to check if a date is valid\n",
    "    def is_valid_date(date_str):\n",
    "        try:\n",
    "            pd.to_datetime(date_str, format='%m/%d/%Y', errors='raise')\n",
    "            return True\n",
    "        except ValueError:\n",
    "            return False\n",
    "\n",
    "    # Use an empty file or create the output file with headers\n",
    "    first_chunk = True\n",
    "\n",
    "    # Read the CSV in chunks\n",
    "    for chunk in pd.read_csv(input_file, chunksize=chunk_size):\n",
    "        # Filter out rows with invalid dates\n",
    "        valid_chunk = chunk[chunk['TierAchievementDate'].apply(is_valid_date)]\n",
    "        \n",
    "        # Write the valid chunk to the output file\n",
    "        valid_chunk.to_csv(output_file, mode='a', header=first_chunk, index=False)\n",
    "        \n",
    "        # Set header to False for subsequent writes\n",
    "        first_chunk = False\n",
    "\n",
    "\n",
    "# Usage\n",
    "input_file = 'C:\\\\Users\\\\mr2714\\\\Desktop\\\\venvs\\\\pdata\\\\UserAchievements.csv'\n",
    "output_file = 'C:\\\\Users\\\\mr2714\\\\Desktop\\\\venvs\\\\pdata\\\\CleanedUserAchievements.csv'\n",
    "clean_csv(input_file, output_file)\n"
   ]
  },
  {
   "cell_type": "code",
   "execution_count": 2,
   "metadata": {},
   "outputs": [
    {
     "name": "stdout",
     "output_type": "stream",
     "text": [
      "calling without giving 2nd\n",
      " Chunk Sized  45\n",
      " reduced_size  45\n",
      "calling with giving 2nd\n",
      " Chunk Sized  45\n",
      " reduced_size  30\n"
     ]
    }
   ],
   "source": [
    "chunk_size = 45\n",
    "\n",
    "def get_csv_chunker(csv_file, reduced_size=chunk_size):\n",
    "    print(\" Chunk Sized \", chunk_size)\n",
    "    print(\" reduced_size \", reduced_size)\n",
    "\n",
    "print(\"calling without giving 2nd\")\n",
    "get_csv_chunker(\"csv_file\")\n",
    "\n",
    "print(\"calling with giving 2nd\")\n",
    "get_csv_chunker(\"csv_file\", 30)"
   ]
  }
 ],
 "metadata": {
  "kernelspec": {
   "display_name": "Python 3",
   "language": "python",
   "name": "python3"
  },
  "language_info": {
   "codemirror_mode": {
    "name": "ipython",
    "version": 3
   },
   "file_extension": ".py",
   "mimetype": "text/x-python",
   "name": "python",
   "nbconvert_exporter": "python",
   "pygments_lexer": "ipython3",
   "version": "3.12.0"
  }
 },
 "nbformat": 4,
 "nbformat_minor": 2
}
